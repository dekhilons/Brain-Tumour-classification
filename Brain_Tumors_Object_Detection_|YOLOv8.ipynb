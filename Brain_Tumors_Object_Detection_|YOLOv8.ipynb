{
  "metadata": {
    "kernelspec": {
      "language": "python",
      "display_name": "Python 3",
      "name": "python3"
    },
    "language_info": {
      "name": "python",
      "version": "3.10.13",
      "mimetype": "text/x-python",
      "codemirror_mode": {
        "name": "ipython",
        "version": 3
      },
      "pygments_lexer": "ipython3",
      "nbconvert_exporter": "python",
      "file_extension": ".py"
    },
    "kaggle": {
      "accelerator": "nvidiaTeslaT4",
      "dataSources": [
        {
          "sourceId": 8940125,
          "sourceType": "datasetVersion",
          "datasetId": 5379258
        }
      ],
      "dockerImageVersionId": 30746,
      "isInternetEnabled": true,
      "language": "python",
      "sourceType": "notebook",
      "isGpuEnabled": true
    },
    "colab": {
      "provenance": [],
      "include_colab_link": true
    }
  },
  "nbformat_minor": 0,
  "nbformat": 4,
  "cells": [
    {
      "cell_type": "markdown",
      "metadata": {
        "id": "view-in-github",
        "colab_type": "text"
      },
      "source": [
        "<a href=\"https://colab.research.google.com/github/dekhilons/Brain-Tumour-classification/blob/main/Brain_Tumors_Object_Detection_%7CYOLOv8.ipynb\" target=\"_parent\"><img src=\"https://colab.research.google.com/assets/colab-badge.svg\" alt=\"Open In Colab\"/></a>"
      ]
    },
    {
      "source": [
        "# IMPORTANT: RUN THIS CELL IN ORDER TO IMPORT YOUR KAGGLE DATA SOURCES,\n",
        "# THEN FEEL FREE TO DELETE THIS CELL.\n",
        "# NOTE: THIS NOTEBOOK ENVIRONMENT DIFFERS FROM KAGGLE'S PYTHON\n",
        "# ENVIRONMENT SO THERE MAY BE MISSING LIBRARIES USED BY YOUR\n",
        "# NOTEBOOK.\n",
        "import kagglehub\n",
        "ahmedsorour1_mri_for_brain_tumor_with_bounding_boxes_path = kagglehub.dataset_download('ahmedsorour1/mri-for-brain-tumor-with-bounding-boxes')\n",
        "\n",
        "print('Data source import complete.')\n"
      ],
      "metadata": {
        "id": "Mhq1ZgBHZIoq"
      },
      "cell_type": "code",
      "outputs": [],
      "execution_count": null
    },
    {
      "cell_type": "code",
      "source": [
        "# Install necessary libraries\n",
        "!pip install ultralytics\n",
        "!pip install plotly\n",
        "!pip install opencv-python-headless\n",
        "\n",
        "import os\n",
        "import cv2\n",
        "import numpy as np\n",
        "import pandas as pd\n",
        "import plotly.express as px\n",
        "import plotly.graph_objects as go\n",
        "from ultralytics import YOLO\n",
        "import matplotlib.pyplot as plt\n",
        "import matplotlib.patches as patches\n",
        "import yaml"
      ],
      "metadata": {
        "_uuid": "8f2839f25d086af736a60e9eeb907d3b93b6e0e5",
        "_cell_guid": "b1076dfc-b9ad-4769-8c92-a6c4dae69d19",
        "trusted": true,
        "id": "m9HTgtcXZIot"
      },
      "execution_count": null,
      "outputs": []
    },
    {
      "cell_type": "code",
      "source": [
        "# Import wandb and log in\n",
        "import wandb\n",
        "\n",
        "# Log in to wandb with API key\n",
        "wandb.login(key='eb4c4a1fa7eec1ffbabc36420ba1166f797d4ac5')"
      ],
      "metadata": {
        "trusted": true,
        "id": "Km3PenubZIou"
      },
      "execution_count": null,
      "outputs": []
    },
    {
      "cell_type": "code",
      "source": [
        "\n",
        "# Paths to data directories\n",
        "train_path = \"/kaggle/input/mri-for-brain-tumor-with-bounding-boxes/Train\"\n",
        "val_path = \"/kaggle/input/mri-for-brain-tumor-with-bounding-boxes/Val\""
      ],
      "metadata": {
        "trusted": true,
        "id": "K2K1jSv_ZIou"
      },
      "execution_count": null,
      "outputs": []
    },
    {
      "cell_type": "code",
      "source": [
        "# Classes\n",
        "classes = [\"Glioma\", \"Meningioma\", \"No Tumor\", \"Pituitary\"]"
      ],
      "metadata": {
        "trusted": true,
        "id": "9whFUa6GZIov"
      },
      "execution_count": null,
      "outputs": []
    },
    {
      "cell_type": "code",
      "source": [
        "# Function to load images and labels\n",
        "def load_data(data_path):\n",
        "    images = []\n",
        "    labels = []\n",
        "    for class_label in classes:\n",
        "        class_path = os.path.join(data_path, class_label, 'images')\n",
        "        label_path = os.path.join(data_path, class_label, 'labels')\n",
        "        for img_file in os.listdir(class_path):\n",
        "            img = cv2.imread(os.path.join(class_path, img_file))\n",
        "            img = cv2.cvtColor(img, cv2.COLOR_BGR2RGB)\n",
        "            label_file = img_file.replace('.jpg', '.txt')\n",
        "            label_file_path = os.path.join(label_path, label_file)\n",
        "            if os.path.exists(label_file_path):\n",
        "                with open(label_file_path, 'r') as file:\n",
        "                    label_data = file.readline().strip().split()\n",
        "                    if len(label_data) > 0:\n",
        "                        images.append(img)\n",
        "                        labels.append(label_data)\n",
        "                    else:\n",
        "                        print(f\"Label file {label_file_path} is empty, skipping this image.\")\n",
        "            else:\n",
        "                print(f\"Label file {label_file_path} not found, skipping this image.\")\n",
        "    return images, labels\n",
        "\n",
        "# Load training and validation data\n",
        "train_images, train_labels = load_data(train_path)\n",
        "val_images, val_labels = load_data(val_path)"
      ],
      "metadata": {
        "trusted": true,
        "id": "brKt_zBQZIov"
      },
      "execution_count": null,
      "outputs": []
    },
    {
      "cell_type": "code",
      "source": [
        "# EDA - Visualize class distribution\n",
        "train_counts = [len(os.listdir(os.path.join(train_path, cls, 'images'))) for cls in classes]\n",
        "val_counts = [len(os.listdir(os.path.join(val_path, cls, 'images'))) for cls in classes]\n",
        "eda_df = pd.DataFrame({'Class': classes, 'Train': train_counts, 'Validation': val_counts})\n",
        "\n",
        "fig = go.Figure(data=[\n",
        "    go.Bar(name='Train', x=eda_df['Class'], y=eda_df['Train']),\n",
        "    go.Bar(name='Validation', x=eda_df['Class'], y=eda_df['Validation'])\n",
        "])\n",
        "fig.update_layout(barmode='group', title='Class Distribution in Training and Validation Sets')\n",
        "fig.show()"
      ],
      "metadata": {
        "trusted": true,
        "id": "9RF0k_jhZIow"
      },
      "execution_count": null,
      "outputs": []
    },
    {
      "cell_type": "code",
      "source": [
        "# Image Preprocessing\n",
        "def preprocess_images(images):\n",
        "    processed_images = []\n",
        "    for img in images:\n",
        "        img_resized = cv2.resize(img, (640, 640))\n",
        "        processed_images.append(img_resized)\n",
        "    return np.array(processed_images)\n",
        "\n",
        "train_images = preprocess_images(train_images)\n",
        "val_images = preprocess_images(val_images)"
      ],
      "metadata": {
        "trusted": true,
        "id": "NuOY0RwPZIow"
      },
      "execution_count": null,
      "outputs": []
    },
    {
      "cell_type": "code",
      "source": [
        "# Create YOLOv8 Dataset Configuration File\n",
        "dataset_yaml = {\n",
        "    'path': '/kaggle/input/mri-for-brain-tumor-with-bounding-boxes',\n",
        "    'train': 'Train',\n",
        "    'val': 'Val',\n",
        "    'names': classes\n",
        "}\n",
        "\n",
        "with open('/kaggle/working/dataset.yaml', 'w') as file:\n",
        "    yaml.dump(dataset_yaml, file)"
      ],
      "metadata": {
        "trusted": true,
        "id": "M9ed0TotZIow"
      },
      "execution_count": null,
      "outputs": []
    },
    {
      "cell_type": "code",
      "source": [
        "# YOLOv8 Model Training\n",
        "yolo_model = YOLO(\"yolov8s.pt\")  # Load a pre-trained YOLOv8 model\n",
        "train_results = yolo_model.train(data='/kaggle/working/dataset.yaml', epochs=30, imgsz=640)"
      ],
      "metadata": {
        "trusted": true,
        "id": "se1RH0cpZIox"
      },
      "execution_count": null,
      "outputs": []
    },
    {
      "cell_type": "code",
      "source": [
        "# Save the YOLOv8 model\n",
        "yolo_model.save('/kaggle/working/yolov8_model.pt')"
      ],
      "metadata": {
        "trusted": true,
        "id": "OqeR9FNEZIox"
      },
      "execution_count": null,
      "outputs": []
    },
    {
      "cell_type": "code",
      "source": [
        "# Function to display detection results with highlighted parts\n",
        "def display_samples(images, yolo_model):\n",
        "    for i in range(10):\n",
        "        img = images[i]\n",
        "        result = yolo_model.predict(img)[0]  # Assuming batch size of 1, take the first result\n",
        "\n",
        "        plt.figure(figsize=(8, 8))\n",
        "        plt.imshow(img)\n",
        "        ax = plt.gca()\n",
        "\n",
        "        for detection in result.boxes:\n",
        "            x1, y1, x2, y2 = detection.xyxy[0].cpu().numpy()\n",
        "            conf = detection.conf[0].cpu().numpy()\n",
        "            cls = detection.cls[0].cpu().numpy()\n",
        "            rect = patches.Rectangle((x1, y1), x2-x1, y2-y1, linewidth=2, edgecolor='r', facecolor='none')\n",
        "            ax.add_patch(rect)\n",
        "            plt.text(x1, y1, f\"{classes[int(cls)]} {conf:.2f}\", color='white', fontsize=12, backgroundcolor='red')\n",
        "\n",
        "        plt.title(f'YOLOv8 Detection')\n",
        "        plt.show()\n",
        "\n",
        "display_samples(val_images, yolo_model)"
      ],
      "metadata": {
        "trusted": true,
        "id": "-rJ5g6gxZIox"
      },
      "execution_count": null,
      "outputs": []
    }
  ]
}